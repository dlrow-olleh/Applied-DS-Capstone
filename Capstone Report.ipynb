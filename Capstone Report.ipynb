{
    "cells": [
        {
            "cell_type": "markdown",
            "metadata": {},
            "source": "# Which area is similar to mine?\n\n## Introduction\nEven though I was born in Bangalore, I have never lived in this city and therefore have don't really know much about it. Now, due to covid, I will be here for a year and am curious to find another area to explore that isnt my borough, Banashankari. One of my favourite things about my location is the abundance of asian food available here. Based on that requirement, this project will look into finding a similarly suited area or two for me to explore. I also want to see whether the restaurants in the are would cost more, which I will deduce by the income based on area.\n## Data\nThe data I collected for this reccomendation system fall under three categories: geographical coordinates of each neighborhood, population of each neighborhood, and income by neighborhood on online local databases.I then also used Foursquare API to find the nearest venues to each locality for 500m, nd the corresponding venue locations and types.\n## Method\nAfter collecting and cleaning all of the data, we begin to experiment with it. First, I mapped the number of venues in each area and found that Indiranagar has the most venues by far, followed by BTM Layout. Then, I experimented with finding the most prevalent type of venue in each location and found that restaurants are almost always the top result (with the rare exception being bus tops, or department stores). Even within the food industrie's popularity, Indian restaurants seem to be the most popular. Then, using k means clustering to find make groups of venues in the data set, I then used further metrics of population and income to categorize each neighborhood. I also made a metric to measure the ratio of asian restaurants to non-asian restaurant venues in the area to help find areas with a similar number of asian restaurants to explore. Then, finally, we ranked the options from most to least similar and chose the top 3 options.\n## Results\nMy recommendation system recommended that I try the areas of Arekere and BTM Layout. My third result was Banashankari, the area in which I live. It seems that I live in one of the best areas for Asian food!\n## Discussion\nIt is important to note that the food and restaurant scene is ever-evolving and diverse. It is difficult, and frankly, unfair, to even attempt to categorize establishments in the food industry so starkly. It is also impossible to keep up with the number and styles of new restaurants popping up all the time, which means most of our datasets will be outdated, as I'm sure mine is too. This also leads us to note that there are most likely many missin restaurants and establishments that are too small scale and are therefore very easy to overlook.\n## Conclusion\nIn conclusion, here is a very humble attempt at a recommendation model using popualation, income and the venues of an area to help me explore my city. Of course, it is likely already obsolete by the time I am using it, however it is a good start. As collecting data on small establishments and restaurants becomes easer and more efficient to help keep up with the ever changing tides, it may become more efficietn!"
        },
        {
            "cell_type": "markdown",
            "metadata": {},
            "source": "Code, diarams, and graphs here: https://github.com/dlrow-olleh/Applied-DS-Capstone/blob/master/Capstone%20Code.ipynb"
        }
    ],
    "metadata": {
        "kernelspec": {
            "display_name": "Python 3.7",
            "language": "python",
            "name": "python3"
        },
        "language_info": {
            "codemirror_mode": {
                "name": "ipython",
                "version": 3
            },
            "file_extension": ".py",
            "mimetype": "text/x-python",
            "name": "python",
            "nbconvert_exporter": "python",
            "pygments_lexer": "ipython3",
            "version": "3.7.9"
        }
    },
    "nbformat": 4,
    "nbformat_minor": 1
}